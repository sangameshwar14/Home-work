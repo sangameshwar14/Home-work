{
  "cells": [
    {
      "cell_type": "markdown",
      "metadata": {
        "id": "Tt_2h4MjFDUk"
      },
      "source": [
        "# Week 11 Assignment\n",
        "\n",
        "\n",
        "Please do the programming exercise and verify that your code works using the tests, then think about your final project and fill out the questions in the second part.\n",
        "\n",
        "---\n",
        "---"
      ]
    },
    {
      "cell_type": "markdown",
      "metadata": {
        "id": "gMo-A7GdFDUl"
      },
      "source": [
        "### 47.1: Filtering and summarizing data\n",
        "\n",
        "For this work, you'll find a data file in `https://hds5210-data.s3.amazonaws.com/complications_all.csv`.\n",
        "\n",
        "Read in the data file and create a variable called `mo_hospitals` that contains a data frame from the `complications_all.csv` file, filtered down to only contain those hospitals from the state of Missouri (MO).\n",
        "\n",
        "Then aggregate that data by hospital into a variable named `mo_summary`.  There are some key fields that we want to summarize:\n",
        "* We want to know the earliest date that each hospital was participating in any program\n",
        "* We want to know the latest date that each hospital stopped participating in any program\n",
        "* We want to know the total number of patients in the denominators of these programs\n",
        "\n",
        "Some things to note:\n",
        "* You will need to convert the `Start Date` and `End Date` to actual datetime fields\n",
        "* You will need to clean up and convert the `Denominator` field to just be numeric - the rule that you should use it to simply remove any records where the `Denominator` is `'Not Available'`\n",
        "\n",
        "\n",
        "The final result of this step should be a new data frame called `mo_summary` that contains one row for each hospital and contains the min start date, max end date, and total denominator.  Use the names `start_date`, `end_date`, and `number` for those columns in `mo_summary`.\n",
        "\n",
        "\n",
        "You do not need to create your code in the form of a function, just make sure your variable names match what I've described above so the tests work."
      ]
    },
    {
      "cell_type": "code",
      "execution_count": 17,
      "metadata": {
        "id": "PmRoNBmzFDUl"
      },
      "outputs": [],
      "source": [
        "import pandas as pd\n",
        "# This is just to show you the name to use for the variable you need to create for this step to pass.\n",
        "all_hospitals = pd.read_csv('https://hds5210-data.s3.amazonaws.com/complications_all.csv')\n"
      ]
    },
    {
      "cell_type": "code",
      "source": [
        "import pandas as pd\n",
        "\n",
        "# Load the dataset into a DataFrame\n",
        "hospital_data = pd.read_csv('https://hds5210-data.s3.amazonaws.com/complications_all.csv')\n",
        "\n",
        "# Filter data for Missouri (MO)\n",
        "missouri_data = hospital_data[hospital_data['State'] == 'MO'].copy()\n",
        "\n",
        "# Convert date columns to datetime format\n",
        "missouri_data['Start Date'] = pd.to_datetime(missouri_data['Start Date'])\n",
        "missouri_data['End Date'] = pd.to_datetime(missouri_data['End Date'])\n",
        "\n",
        "# Exclude rows where 'Denominator' has the value 'Not Available'\n",
        "valid_data = missouri_data[missouri_data['Denominator'] != 'Not Available']\n",
        "\n",
        "# Convert the 'Denominator' column to numeric\n",
        "valid_data['Denominator'] = pd.to_numeric(valid_data['Denominator'])\n",
        "\n",
        "# Summarize data by facility\n",
        "summary_data = valid_data.groupby('Facility Name').agg(\n",
        "    earliest_start=pd.NamedAgg(column='Start Date', aggfunc='min'),\n",
        "    latest_end=pd.NamedAgg(column='End Date', aggfunc='max'),\n",
        "    total_cases=pd.NamedAgg(column='Denominator', aggfunc='sum')\n",
        ").reset_index()\n",
        "\n",
        "# Set the facility name as the index\n",
        "summary_data.set_index('Facility Name', inplace=True)\n",
        "\n",
        "# Display the summary DataFrame\n",
        "print(summary_data)\n"
      ],
      "metadata": {
        "id": "o9CuMi-lHPeD",
        "outputId": "a2d0d6dc-bcfb-47e7-d356-ce2096339782",
        "colab": {
          "base_uri": "https://localhost:8080/"
        }
      },
      "execution_count": 18,
      "outputs": [
        {
          "output_type": "stream",
          "name": "stdout",
          "text": [
            "                                    earliest_start latest_end  total_cases\n",
            "Facility Name                                                             \n",
            "BARNES JEWISH HOSPITAL                  2015-04-01 2018-06-30       131313\n",
            "BARNES-JEWISH ST PETERS HOSPITAL        2015-04-01 2018-06-30        15668\n",
            "BARNES-JEWISH WEST COUNTY HOSPITAL      2015-04-01 2018-06-30         9622\n",
            "BATES COUNTY MEMORIAL HOSPITAL          2015-07-01 2018-06-30         3117\n",
            "BELTON REGIONAL MEDICAL CENTER          2015-04-01 2018-06-30         9270\n",
            "...                                            ...        ...          ...\n",
            "TRUMAN MEDICAL CENTER LAKEWOOD          2015-04-01 2018-06-30         4297\n",
            "UNIVERSITY OF MISSOURI HEALTH CARE      2015-04-01 2018-06-30        56493\n",
            "WASHINGTON COUNTY MEMORIAL HOSPITAL     2015-07-01 2018-06-30          220\n",
            "WESTERN MISSOURI MEDICAL CENTER         2015-04-01 2018-06-30         7254\n",
            "WRIGHT MEMORIAL HOSPITAL                2015-07-01 2018-06-30          198\n",
            "\n",
            "[108 rows x 3 columns]\n"
          ]
        },
        {
          "output_type": "stream",
          "name": "stderr",
          "text": [
            "<ipython-input-18-cffc1ff50eb2>:17: SettingWithCopyWarning: \n",
            "A value is trying to be set on a copy of a slice from a DataFrame.\n",
            "Try using .loc[row_indexer,col_indexer] = value instead\n",
            "\n",
            "See the caveats in the documentation: https://pandas.pydata.org/pandas-docs/stable/user_guide/indexing.html#returning-a-view-versus-a-copy\n",
            "  valid_data['Denominator'] = pd.to_numeric(valid_data['Denominator'])\n"
          ]
        }
      ]
    },
    {
      "cell_type": "code",
      "source": [
        "import pandas as pd\n",
        "\n",
        "# Load the dataset into a DataFrame\n",
        "hospital_data = pd.read_csv('https://hds5210-data.s3.amazonaws.com/complications_all.csv')\n",
        "\n",
        "# Filter for Missouri hospitals\n",
        "missouri_hospitals = hospital_data[hospital_data['State'] == 'MO'].copy()\n",
        "\n",
        "# Convert date columns to datetime format for better analysis\n",
        "missouri_hospitals['Start Date'] = pd.to_datetime(missouri_hospitals['Start Date'])\n",
        "missouri_hospitals['End Date'] = pd.to_datetime(missouri_hospitals['End Date'])\n",
        "\n",
        "# Remove rows with 'Not Available' in the 'Denominator' column\n",
        "filtered_data = missouri_hospitals[missouri_hospitals['Denominator'] != 'Not Available']\n",
        "\n",
        "# Ensure 'Denominator' is numeric for aggregation\n",
        "filtered_data['Denominator'] = pd.to_numeric(filtered_data['Denominator'])\n",
        "\n",
        "# Aggregate data at the facility level\n",
        "facility_summary = filtered_data.groupby('Facility Name').agg(\n",
        "    start=pd.NamedAgg(column='Start Date', aggfunc='min'),\n",
        "    end=pd.NamedAgg(column='End Date', aggfunc='max'),\n",
        "    total_cases=pd.NamedAgg(column='Denominator', aggfunc='sum')\n",
        ").reset_index()\n",
        "\n",
        "# Set 'Facility Name' as the index\n",
        "facility_summary.set_index('Facility Name', inplace=True)\n",
        "\n",
        "# Rename columns for clarity\n",
        "facility_summary.rename(columns={\n",
        "    'start': 'start_date',\n",
        "    'end': 'end_date',\n",
        "    'total_cases': 'number'\n",
        "}, inplace=True)\n",
        "\n",
        "# Print the summary table\n",
        "print(facility_summary)\n",
        "\n",
        "# Assertions to validate the results\n",
        "assert(facility_summary['number'].sum() == 1766908)\n",
        "assert(facility_summary['start_date'].min() == pd.Timestamp(2015, 4, 1))\n",
        "assert(facility_summary['end_date'].max() == pd.Timestamp(2018, 6, 30))\n",
        "assert(facility_summary.shape == (108, 3))\n",
        "assert(facility_summary.loc['BARNES JEWISH HOSPITAL'].number == 131313)\n",
        "assert(facility_summary.loc['BOONE HOSPITAL CENTER'].number == 63099)\n"
      ],
      "metadata": {
        "id": "t2yG5fHbHk74",
        "outputId": "97a70592-bad7-4cee-ebd4-6ffc70f85d76",
        "colab": {
          "base_uri": "https://localhost:8080/"
        }
      },
      "execution_count": 19,
      "outputs": [
        {
          "output_type": "stream",
          "name": "stdout",
          "text": [
            "                                    start_date   end_date  number\n",
            "Facility Name                                                    \n",
            "BARNES JEWISH HOSPITAL              2015-04-01 2018-06-30  131313\n",
            "BARNES-JEWISH ST PETERS HOSPITAL    2015-04-01 2018-06-30   15668\n",
            "BARNES-JEWISH WEST COUNTY HOSPITAL  2015-04-01 2018-06-30    9622\n",
            "BATES COUNTY MEMORIAL HOSPITAL      2015-07-01 2018-06-30    3117\n",
            "BELTON REGIONAL MEDICAL CENTER      2015-04-01 2018-06-30    9270\n",
            "...                                        ...        ...     ...\n",
            "TRUMAN MEDICAL CENTER LAKEWOOD      2015-04-01 2018-06-30    4297\n",
            "UNIVERSITY OF MISSOURI HEALTH CARE  2015-04-01 2018-06-30   56493\n",
            "WASHINGTON COUNTY MEMORIAL HOSPITAL 2015-07-01 2018-06-30     220\n",
            "WESTERN MISSOURI MEDICAL CENTER     2015-04-01 2018-06-30    7254\n",
            "WRIGHT MEMORIAL HOSPITAL            2015-07-01 2018-06-30     198\n",
            "\n",
            "[108 rows x 3 columns]\n"
          ]
        },
        {
          "output_type": "stream",
          "name": "stderr",
          "text": [
            "<ipython-input-19-6473cd423724>:17: SettingWithCopyWarning: \n",
            "A value is trying to be set on a copy of a slice from a DataFrame.\n",
            "Try using .loc[row_indexer,col_indexer] = value instead\n",
            "\n",
            "See the caveats in the documentation: https://pandas.pydata.org/pandas-docs/stable/user_guide/indexing.html#returning-a-view-versus-a-copy\n",
            "  filtered_data['Denominator'] = pd.to_numeric(filtered_data['Denominator'])\n"
          ]
        }
      ]
    },
    {
      "cell_type": "markdown",
      "metadata": {
        "id": "7gDx8Q3iFDUm"
      },
      "source": [
        "---\n",
        "\n",
        "### 47.2 Planning your final project\n",
        "\n",
        "You should be thinking about the things we've been learning and how you can apply them to your final project.  Use the rubric to help guid your thinking and then answer the questions below.  This is meant as a guide to help you think through what you will do."
      ]
    },
    {
      "cell_type": "markdown",
      "metadata": {
        "id": "hln0IB-wFDUm"
      },
      "source": [
        "#### A) Data Access\n",
        "\n",
        "Your project should include data from at least three distinct types of sources.  For example: AWS S3, Relational Databases, Internet, Web Services, local files.  List what data sources you're planning to use."
      ]
    },
    {
      "cell_type": "markdown",
      "metadata": {
        "id": "eT4vfdlJFDUm"
      },
      "source": [
        "For my project, I plan to use data from three distinct sources to ensure diversity and scalability in data handling. First, I will utilize **local files** to store and manage processed datasets and analysis outputs for quick access and computation. Second, I will incorporate **AWS S3** for accessing or storing large datasets, providing scalable and secure cloud-based storage. Lastly, I will rely on **web services**, such as the publicly available APIs and data sources from **Healthdata.gov** and **Data.cms.gov**, to fetch real-time or pre-published data directly from the internet. Together, these sources will create a robust and flexible data pipeline for my analysis."
      ]
    },
    {
      "cell_type": "markdown",
      "metadata": {
        "id": "Acm70RrgFDUm"
      },
      "source": [
        "#### B. Data Formats\n",
        "\n",
        "Your project should include data that comes in different file formats.  For example: HL7, EDI, HTML, CSV, Excel, JSON, XML.  List what data formats you're planning to use."
      ]
    },
    {
      "cell_type": "markdown",
      "metadata": {
        "id": "y0lnhN1rFDUn"
      },
      "source": [
        "For my project, I plan to work with data in several different formats to ensure flexibility and compatibility with the sources. I will use **CSV** files for datasets structured in tabular format, such as the pulmonary disease office visit costs dataset from **Data.cms.gov**. The COVID-19 incidence data from **Healthdata.gov** will likely be in **JSON** format, as it is commonly used for API data. Additionally, I may use **Excel** files for any supplementary data or reports that require more complex data manipulation, particularly if the dataset includes multiple sheets. These diverse formats will allow for efficient handling and analysis of data from various sources."
      ]
    },
    {
      "cell_type": "markdown",
      "metadata": {
        "id": "EY3rRUMuFDUn"
      },
      "source": [
        "#### C. Objective\n",
        "\n",
        "What purpose would your project serve in a real work setting?  Take a couple of paragraphs to write down why this is an interesting product."
      ]
    },
    {
      "cell_type": "markdown",
      "metadata": {
        "id": "hB9nmrtYFDUn"
      },
      "source": [
        "The biggest aim for my project is to build a tool which integrate and analyze all these data so that, one can easily extract out the meaningful insights from different sources. What businesses with many different types of data would find very valuable?) Say, for example — a company has customer details in local CSV files and operational data in AWS S3. The project intends to develop a single point interface for easy access, combination and analysis of that data. With a unified perspective, the tool should improve decision-making and eliminate data silo. That is especially true for businesses that need to have complete visibility in order to make decisions. Besides, the tool can help you when you need to migrate data where the aggregated data from different sources is required and needs to be transformed into a standard format. To summarize, this project actually comes in useful when it helps to eliminate the headache of managing different sources and multiple formats of data to allow faster and better decision making through the world-class solutions deployed within an organization."
      ]
    },
    {
      "cell_type": "markdown",
      "metadata": {
        "id": "icpnvQtkFDUn"
      },
      "source": [
        "\n",
        "\n",
        "---\n",
        "\n",
        "\n",
        "\n",
        "## Submit your work via GitHub as normal\n"
      ]
    }
  ],
  "metadata": {
    "kernelspec": {
      "display_name": "Python 3",
      "language": "python",
      "name": "python3"
    },
    "language_info": {
      "codemirror_mode": {
        "name": "ipython",
        "version": 3
      },
      "file_extension": ".py",
      "mimetype": "text/x-python",
      "name": "python",
      "nbconvert_exporter": "python",
      "pygments_lexer": "ipython3",
      "version": "3.9.16"
    },
    "colab": {
      "provenance": []
    }
  },
  "nbformat": 4,
  "nbformat_minor": 0
}